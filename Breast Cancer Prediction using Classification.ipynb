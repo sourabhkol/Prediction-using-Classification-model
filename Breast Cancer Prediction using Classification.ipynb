{
 "cells": [
  {
   "cell_type": "code",
   "execution_count": 190,
   "id": "e9e3a820",
   "metadata": {},
   "outputs": [],
   "source": [
    "import pandas as pd\n",
    "import numpy as np\n",
    "import matplotlib.pyplot as plt\n",
    "accuracy_dict = {}"
   ]
  },
  {
   "cell_type": "code",
   "execution_count": 191,
   "id": "f3726b68",
   "metadata": {
    "scrolled": true
   },
   "outputs": [
    {
     "data": {
      "text/html": [
       "<div>\n",
       "<style scoped>\n",
       "    .dataframe tbody tr th:only-of-type {\n",
       "        vertical-align: middle;\n",
       "    }\n",
       "\n",
       "    .dataframe tbody tr th {\n",
       "        vertical-align: top;\n",
       "    }\n",
       "\n",
       "    .dataframe thead th {\n",
       "        text-align: right;\n",
       "    }\n",
       "</style>\n",
       "<table border=\"1\" class=\"dataframe\">\n",
       "  <thead>\n",
       "    <tr style=\"text-align: right;\">\n",
       "      <th></th>\n",
       "      <th>Sample code number</th>\n",
       "      <th>Clump Thickness</th>\n",
       "      <th>Uniformity of Cell Size</th>\n",
       "      <th>Uniformity of Cell Shape</th>\n",
       "      <th>Marginal Adhesion</th>\n",
       "      <th>Single Epithelial Cell Size</th>\n",
       "      <th>Bare Nuclei</th>\n",
       "      <th>Bland Chromatin</th>\n",
       "      <th>Normal Nucleoli</th>\n",
       "      <th>Mitoses</th>\n",
       "      <th>Class</th>\n",
       "    </tr>\n",
       "  </thead>\n",
       "  <tbody>\n",
       "    <tr>\n",
       "      <th>0</th>\n",
       "      <td>1000025</td>\n",
       "      <td>5</td>\n",
       "      <td>1</td>\n",
       "      <td>1</td>\n",
       "      <td>1</td>\n",
       "      <td>2</td>\n",
       "      <td>1</td>\n",
       "      <td>3</td>\n",
       "      <td>1</td>\n",
       "      <td>1</td>\n",
       "      <td>2</td>\n",
       "    </tr>\n",
       "    <tr>\n",
       "      <th>1</th>\n",
       "      <td>1002945</td>\n",
       "      <td>5</td>\n",
       "      <td>4</td>\n",
       "      <td>4</td>\n",
       "      <td>5</td>\n",
       "      <td>7</td>\n",
       "      <td>10</td>\n",
       "      <td>3</td>\n",
       "      <td>2</td>\n",
       "      <td>1</td>\n",
       "      <td>2</td>\n",
       "    </tr>\n",
       "    <tr>\n",
       "      <th>2</th>\n",
       "      <td>1015425</td>\n",
       "      <td>3</td>\n",
       "      <td>1</td>\n",
       "      <td>1</td>\n",
       "      <td>1</td>\n",
       "      <td>2</td>\n",
       "      <td>2</td>\n",
       "      <td>3</td>\n",
       "      <td>1</td>\n",
       "      <td>1</td>\n",
       "      <td>2</td>\n",
       "    </tr>\n",
       "    <tr>\n",
       "      <th>3</th>\n",
       "      <td>1016277</td>\n",
       "      <td>6</td>\n",
       "      <td>8</td>\n",
       "      <td>8</td>\n",
       "      <td>1</td>\n",
       "      <td>3</td>\n",
       "      <td>4</td>\n",
       "      <td>3</td>\n",
       "      <td>7</td>\n",
       "      <td>1</td>\n",
       "      <td>2</td>\n",
       "    </tr>\n",
       "    <tr>\n",
       "      <th>4</th>\n",
       "      <td>1017023</td>\n",
       "      <td>4</td>\n",
       "      <td>1</td>\n",
       "      <td>1</td>\n",
       "      <td>3</td>\n",
       "      <td>2</td>\n",
       "      <td>1</td>\n",
       "      <td>3</td>\n",
       "      <td>1</td>\n",
       "      <td>1</td>\n",
       "      <td>2</td>\n",
       "    </tr>\n",
       "  </tbody>\n",
       "</table>\n",
       "</div>"
      ],
      "text/plain": [
       "   Sample code number  Clump Thickness  Uniformity of Cell Size  \\\n",
       "0             1000025                5                        1   \n",
       "1             1002945                5                        4   \n",
       "2             1015425                3                        1   \n",
       "3             1016277                6                        8   \n",
       "4             1017023                4                        1   \n",
       "\n",
       "   Uniformity of Cell Shape  Marginal Adhesion  Single Epithelial Cell Size  \\\n",
       "0                         1                  1                            2   \n",
       "1                         4                  5                            7   \n",
       "2                         1                  1                            2   \n",
       "3                         8                  1                            3   \n",
       "4                         1                  3                            2   \n",
       "\n",
       "   Bare Nuclei  Bland Chromatin  Normal Nucleoli  Mitoses  Class  \n",
       "0            1                3                1        1      2  \n",
       "1           10                3                2        1      2  \n",
       "2            2                3                1        1      2  \n",
       "3            4                3                7        1      2  \n",
       "4            1                3                1        1      2  "
      ]
     },
     "execution_count": 191,
     "metadata": {},
     "output_type": "execute_result"
    }
   ],
   "source": [
    "dataset = pd.read_csv('breast_cancer.csv')\n",
    "dataset.head()"
   ]
  },
  {
   "cell_type": "code",
   "execution_count": 192,
   "id": "a2d6878a",
   "metadata": {},
   "outputs": [],
   "source": [
    "X = dataset.iloc[:,1:-1].values\n",
    "y = dataset.iloc[:,-1].values"
   ]
  },
  {
   "cell_type": "code",
   "execution_count": 193,
   "id": "c5b8e4c6",
   "metadata": {},
   "outputs": [],
   "source": [
    "def dictIncrement1D( _dict, key, value ):\n",
    "    if key in _dict:\n",
    "        _dict[key] += value\n",
    "    else:\n",
    "        _dict[key] = value"
   ]
  },
  {
   "cell_type": "markdown",
   "id": "2c79b7e5",
   "metadata": {},
   "source": [
    "## Splitting of data into training and testing set"
   ]
  },
  {
   "cell_type": "code",
   "execution_count": 194,
   "id": "65e2590b",
   "metadata": {},
   "outputs": [],
   "source": [
    "from sklearn.model_selection import train_test_split\n",
    "X_train, X_test, y_train, y_test = train_test_split(X, y, test_size = 0.2, random_state = 0)"
   ]
  },
  {
   "cell_type": "markdown",
   "id": "7736e03b",
   "metadata": {},
   "source": [
    "## Training the Logistic Regression on Training set"
   ]
  },
  {
   "cell_type": "code",
   "execution_count": 195,
   "id": "ad2334c8",
   "metadata": {},
   "outputs": [
    {
     "data": {
      "text/plain": [
       "LogisticRegression(random_state=0)"
      ]
     },
     "execution_count": 195,
     "metadata": {},
     "output_type": "execute_result"
    }
   ],
   "source": [
    "from sklearn.linear_model import LogisticRegression\n",
    "classifier = LogisticRegression(random_state = 0)\n",
    "classifier.fit(X_train, y_train)"
   ]
  },
  {
   "cell_type": "markdown",
   "id": "fa7e1639",
   "metadata": {},
   "source": [
    "## Test set result prediction"
   ]
  },
  {
   "cell_type": "code",
   "execution_count": 196,
   "id": "fede767d",
   "metadata": {},
   "outputs": [],
   "source": [
    "y_pred = classifier.predict(X_test)"
   ]
  },
  {
   "cell_type": "markdown",
   "id": "d05a9683",
   "metadata": {},
   "source": [
    "## Confusion matrix and accuracy score"
   ]
  },
  {
   "cell_type": "code",
   "execution_count": 197,
   "id": "d9b27ab4",
   "metadata": {},
   "outputs": [
    {
     "name": "stdout",
     "output_type": "stream",
     "text": [
      "[[84  3]\n",
      " [ 3 47]]\n"
     ]
    }
   ],
   "source": [
    "from sklearn.metrics import confusion_matrix, accuracy_score\n",
    "cm = confusion_matrix(y_test, y_pred)\n",
    "print(cm)\n",
    "logistic_regression_accuracy = accuracy_score(y_test, y_pred)\n",
    "dictIncrement1D(accuracy_dict,'logistic_regression_accuracy ', logistic_regression_accuracy)"
   ]
  },
  {
   "cell_type": "markdown",
   "id": "5ddd8848",
   "metadata": {},
   "source": [
    "## Accuracy with K-fold cross Validation"
   ]
  },
  {
   "cell_type": "code",
   "execution_count": 198,
   "id": "617b2c84",
   "metadata": {},
   "outputs": [
    {
     "name": "stdout",
     "output_type": "stream",
     "text": [
      "Accuracy: 96.70 %\n",
      "Standard Deviation: 1.97 %\n"
     ]
    }
   ],
   "source": [
    "from sklearn.model_selection import cross_val_score\n",
    "accuracies = cross_val_score(estimator = classifier, X = X_train, y = y_train, cv = 10)\n",
    "print(\"Accuracy: {:.2f} %\".format(accuracies.mean()*100))\n",
    "print(\"Standard Deviation: {:.2f} %\".format(accuracies.std()*100))"
   ]
  },
  {
   "cell_type": "markdown",
   "id": "f5bc07e9",
   "metadata": {},
   "source": [
    "## Training the KNN model on Training set"
   ]
  },
  {
   "cell_type": "code",
   "execution_count": 199,
   "id": "79137807",
   "metadata": {},
   "outputs": [
    {
     "data": {
      "text/plain": [
       "KNeighborsClassifier()"
      ]
     },
     "execution_count": 199,
     "metadata": {},
     "output_type": "execute_result"
    }
   ],
   "source": [
    "from sklearn.neighbors import KNeighborsClassifier\n",
    "classifier = KNeighborsClassifier(n_neighbors = 5, metric = 'minkowski', p = 2)\n",
    "classifier.fit(X_train, y_train)"
   ]
  },
  {
   "cell_type": "markdown",
   "id": "3618d285",
   "metadata": {},
   "source": [
    "## Test set result prediction"
   ]
  },
  {
   "cell_type": "code",
   "execution_count": 200,
   "id": "50560b5d",
   "metadata": {},
   "outputs": [
    {
     "data": {
      "text/plain": [
       "array([2, 2, 4, 4, 2, 2, 2, 4, 2, 2, 4, 2, 4, 2, 2, 2, 4, 4, 4, 2, 2, 2,\n",
       "       4, 2, 4, 4, 2, 2, 2, 4, 2, 4, 4, 2, 2, 2, 4, 4, 2, 4, 2, 2, 2, 2,\n",
       "       2, 2, 2, 4, 2, 2, 4, 2, 4, 2, 2, 2, 4, 4, 2, 4, 2, 2, 2, 2, 2, 2,\n",
       "       2, 2, 4, 4, 2, 2, 2, 2, 2, 2, 4, 2, 2, 2, 4, 2, 4, 2, 2, 4, 2, 4,\n",
       "       4, 2, 4, 2, 4, 4, 4, 4, 4, 4, 4, 2, 2, 2, 4, 4, 2, 2, 4, 4, 2, 2,\n",
       "       4, 2, 2, 4, 2, 2, 2, 2, 2, 2, 2, 4, 2, 2, 4, 4, 2, 4, 2, 4, 2, 2,\n",
       "       4, 2, 2, 4, 2], dtype=int64)"
      ]
     },
     "execution_count": 200,
     "metadata": {},
     "output_type": "execute_result"
    }
   ],
   "source": [
    "y_pred = classifier.predict(X_test)\n",
    "y_pred"
   ]
  },
  {
   "cell_type": "markdown",
   "id": "19aaedae",
   "metadata": {},
   "source": [
    "## Confusion matrix and accuracy score"
   ]
  },
  {
   "cell_type": "code",
   "execution_count": 201,
   "id": "27cc32ac",
   "metadata": {},
   "outputs": [
    {
     "name": "stdout",
     "output_type": "stream",
     "text": [
      "[[84  3]\n",
      " [ 1 49]]\n"
     ]
    }
   ],
   "source": [
    "from sklearn.metrics import confusion_matrix, accuracy_score\n",
    "cm = confusion_matrix(y_test, y_pred)\n",
    "print(cm)\n",
    "knn_accuracy = accuracy_score(y_test, y_pred)\n",
    "dictIncrement1D(accuracy_dict,'knn_accuracy', knn_accuracy)"
   ]
  },
  {
   "cell_type": "markdown",
   "id": "f16cfa57",
   "metadata": {},
   "source": [
    "## Accuracy with K-fold cross Validation"
   ]
  },
  {
   "cell_type": "code",
   "execution_count": 202,
   "id": "5b2a66c5",
   "metadata": {},
   "outputs": [
    {
     "name": "stdout",
     "output_type": "stream",
     "text": [
      "Accuracy: 97.44 %\n",
      "Standard Deviation: 1.85 %\n"
     ]
    }
   ],
   "source": [
    "from sklearn.model_selection import cross_val_score\n",
    "accuracies = cross_val_score(estimator = classifier, X = X_train, y = y_train, cv = 10)\n",
    "print(\"Accuracy: {:.2f} %\".format(accuracies.mean()*100))\n",
    "print(\"Standard Deviation: {:.2f} %\".format(accuracies.std()*100))"
   ]
  },
  {
   "cell_type": "markdown",
   "id": "e2114546",
   "metadata": {},
   "source": [
    "## Training the SVM model on Training set"
   ]
  },
  {
   "cell_type": "code",
   "execution_count": 203,
   "id": "2c4fff0d",
   "metadata": {},
   "outputs": [
    {
     "data": {
      "text/plain": [
       "SVC(kernel='linear', random_state=0)"
      ]
     },
     "execution_count": 203,
     "metadata": {},
     "output_type": "execute_result"
    }
   ],
   "source": [
    "from sklearn.svm import SVC\n",
    "classifier = SVC(kernel = 'linear', random_state = 0)\n",
    "classifier.fit(X_train, y_train)"
   ]
  },
  {
   "cell_type": "markdown",
   "id": "3be7f360",
   "metadata": {},
   "source": [
    "## Test set result prediction"
   ]
  },
  {
   "cell_type": "code",
   "execution_count": 204,
   "id": "c3d41ba6",
   "metadata": {},
   "outputs": [],
   "source": [
    "y_pred = classifier.predict(X_test)"
   ]
  },
  {
   "cell_type": "markdown",
   "id": "c24c4b47",
   "metadata": {},
   "source": [
    "## Confusion matrix and accuracy score"
   ]
  },
  {
   "cell_type": "code",
   "execution_count": 205,
   "id": "19c68e67",
   "metadata": {},
   "outputs": [
    {
     "name": "stdout",
     "output_type": "stream",
     "text": [
      "[[83  4]\n",
      " [ 2 48]]\n"
     ]
    }
   ],
   "source": [
    "from sklearn.metrics import confusion_matrix, accuracy_score\n",
    "cm = confusion_matrix(y_test, y_pred)\n",
    "print(cm)\n",
    "svm_accuracy = accuracy_score(y_test, y_pred)\n",
    "dictIncrement1D(accuracy_dict,'svm_accuracy ', svm_accuracy)"
   ]
  },
  {
   "cell_type": "markdown",
   "id": "ec03f055",
   "metadata": {},
   "source": [
    "## Accuracy with K-fold cross Validation"
   ]
  },
  {
   "cell_type": "code",
   "execution_count": 206,
   "id": "ebe1793c",
   "metadata": {},
   "outputs": [
    {
     "name": "stdout",
     "output_type": "stream",
     "text": [
      "Accuracy: 97.07 %\n",
      "Standard Deviation: 2.19 %\n"
     ]
    }
   ],
   "source": [
    "from sklearn.model_selection import cross_val_score\n",
    "accuracies = cross_val_score(estimator = classifier, X = X_train, y = y_train, cv = 10)\n",
    "print(\"Accuracy: {:.2f} %\".format(accuracies.mean()*100))\n",
    "print(\"Standard Deviation: {:.2f} %\".format(accuracies.std()*100))"
   ]
  },
  {
   "cell_type": "markdown",
   "id": "2ab1a086",
   "metadata": {},
   "source": [
    "## Training Kernal SVM model on Training data"
   ]
  },
  {
   "cell_type": "code",
   "execution_count": 207,
   "id": "efdd1c40",
   "metadata": {},
   "outputs": [
    {
     "data": {
      "text/plain": [
       "SVC(random_state=0)"
      ]
     },
     "execution_count": 207,
     "metadata": {},
     "output_type": "execute_result"
    }
   ],
   "source": [
    "from sklearn.svm import SVC\n",
    "classifier = SVC(kernel = 'rbf', random_state = 0)\n",
    "classifier.fit(X_train, y_train)"
   ]
  },
  {
   "cell_type": "markdown",
   "id": "40f48487",
   "metadata": {},
   "source": [
    "## Test set result prediction"
   ]
  },
  {
   "cell_type": "code",
   "execution_count": 208,
   "id": "98fb6f49",
   "metadata": {},
   "outputs": [],
   "source": [
    "y_pred = classifier.predict(X_test)"
   ]
  },
  {
   "cell_type": "markdown",
   "id": "87929206",
   "metadata": {},
   "source": [
    "## Confusion matrix and accuracy score"
   ]
  },
  {
   "cell_type": "code",
   "execution_count": 209,
   "id": "891874df",
   "metadata": {},
   "outputs": [
    {
     "name": "stdout",
     "output_type": "stream",
     "text": [
      "[[83  4]\n",
      " [ 1 49]]\n"
     ]
    }
   ],
   "source": [
    "from sklearn.metrics import confusion_matrix, accuracy_score\n",
    "cm = confusion_matrix(y_test, y_pred)\n",
    "print(cm)\n",
    "kernal_svm_accuracy = accuracy_score(y_test, y_pred)\n",
    "dictIncrement1D(accuracy_dict,'kernal_svm_accuracy ', kernal_svm_accuracy)"
   ]
  },
  {
   "cell_type": "markdown",
   "id": "abfe2083",
   "metadata": {},
   "source": [
    "## Accuracy with K-fold cross Validation"
   ]
  },
  {
   "cell_type": "code",
   "execution_count": 210,
   "id": "4efce204",
   "metadata": {},
   "outputs": [
    {
     "name": "stdout",
     "output_type": "stream",
     "text": [
      "Accuracy: 96.89 %\n",
      "Standard Deviation: 2.17 %\n"
     ]
    }
   ],
   "source": [
    "from sklearn.model_selection import cross_val_score\n",
    "accuracies = cross_val_score(estimator = classifier, X = X_train, y = y_train, cv = 10)\n",
    "print(\"Accuracy: {:.2f} %\".format(accuracies.mean()*100))\n",
    "print(\"Standard Deviation: {:.2f} %\".format(accuracies.std()*100))"
   ]
  },
  {
   "cell_type": "markdown",
   "id": "4034d6fa",
   "metadata": {},
   "source": [
    "## Training the Naive Bayes model on Training set"
   ]
  },
  {
   "cell_type": "code",
   "execution_count": 211,
   "id": "638bb9dd",
   "metadata": {},
   "outputs": [
    {
     "data": {
      "text/plain": [
       "GaussianNB()"
      ]
     },
     "execution_count": 211,
     "metadata": {},
     "output_type": "execute_result"
    }
   ],
   "source": [
    "from sklearn.naive_bayes import GaussianNB\n",
    "classifier = GaussianNB()\n",
    "classifier.fit(X_train, y_train)"
   ]
  },
  {
   "cell_type": "markdown",
   "id": "b6412248",
   "metadata": {},
   "source": [
    "## Test set result prediction"
   ]
  },
  {
   "cell_type": "code",
   "execution_count": 212,
   "id": "0b13d369",
   "metadata": {},
   "outputs": [],
   "source": [
    "y_pred = classifier.predict(X_test)"
   ]
  },
  {
   "cell_type": "markdown",
   "id": "7d188f92",
   "metadata": {},
   "source": [
    "## Confusion matrix and accuracy score"
   ]
  },
  {
   "cell_type": "code",
   "execution_count": 213,
   "id": "83cfb333",
   "metadata": {},
   "outputs": [
    {
     "name": "stdout",
     "output_type": "stream",
     "text": [
      "[[80  7]\n",
      " [ 0 50]]\n"
     ]
    }
   ],
   "source": [
    "from sklearn.metrics import confusion_matrix, accuracy_score\n",
    "cm = confusion_matrix(y_test, y_pred)\n",
    "print(cm)\n",
    "naive_bayes_accuracy = accuracy_score(y_test, y_pred)\n",
    "dictIncrement1D(accuracy_dict,'naive_bayes_accuracy ', naive_bayes_accuracy)"
   ]
  },
  {
   "cell_type": "markdown",
   "id": "90bcdfa2",
   "metadata": {},
   "source": [
    "## Accuracy with K-fold cross Validation"
   ]
  },
  {
   "cell_type": "code",
   "execution_count": 214,
   "id": "28f1eb0f",
   "metadata": {},
   "outputs": [
    {
     "name": "stdout",
     "output_type": "stream",
     "text": [
      "Accuracy: 96.52 %\n",
      "Standard Deviation: 2.24 %\n"
     ]
    }
   ],
   "source": [
    "from sklearn.model_selection import cross_val_score\n",
    "accuracies = cross_val_score(estimator = classifier, X = X_train, y = y_train, cv = 10)\n",
    "print(\"Accuracy: {:.2f} %\".format(accuracies.mean()*100))\n",
    "print(\"Standard Deviation: {:.2f} %\".format(accuracies.std()*100))"
   ]
  },
  {
   "cell_type": "markdown",
   "id": "c6e5e914",
   "metadata": {},
   "source": [
    "## Training the Decision Tree model on Training set"
   ]
  },
  {
   "cell_type": "code",
   "execution_count": 215,
   "id": "965ee907",
   "metadata": {},
   "outputs": [
    {
     "data": {
      "text/plain": [
       "DecisionTreeClassifier(criterion='entropy', random_state=0)"
      ]
     },
     "execution_count": 215,
     "metadata": {},
     "output_type": "execute_result"
    }
   ],
   "source": [
    "from sklearn.tree import DecisionTreeClassifier\n",
    "classifier = DecisionTreeClassifier(criterion = 'entropy', random_state = 0)\n",
    "classifier.fit(X_train, y_train)"
   ]
  },
  {
   "cell_type": "markdown",
   "id": "38208eca",
   "metadata": {},
   "source": [
    "## Test set result prediction"
   ]
  },
  {
   "cell_type": "code",
   "execution_count": 216,
   "id": "6774e946",
   "metadata": {},
   "outputs": [],
   "source": [
    "y_pred = classifier.predict(X_test)"
   ]
  },
  {
   "cell_type": "markdown",
   "id": "8a0a5877",
   "metadata": {},
   "source": [
    "## Confusion matrix and accuracy score"
   ]
  },
  {
   "cell_type": "code",
   "execution_count": 217,
   "id": "d81573ac",
   "metadata": {},
   "outputs": [
    {
     "name": "stdout",
     "output_type": "stream",
     "text": [
      "[[84  3]\n",
      " [ 3 47]]\n"
     ]
    }
   ],
   "source": [
    "from sklearn.metrics import confusion_matrix, accuracy_score\n",
    "cm = confusion_matrix(y_test, y_pred)\n",
    "print(cm)\n",
    "decision_tree_accuracy = accuracy_score(y_test, y_pred)\n",
    "dictIncrement1D(accuracy_dict,'decision_tree_accuracy ', decision_tree_accuracy)"
   ]
  },
  {
   "cell_type": "markdown",
   "id": "f6e1d080",
   "metadata": {},
   "source": [
    "## Accuracy with K-fold cross Validation"
   ]
  },
  {
   "cell_type": "code",
   "execution_count": 218,
   "id": "c475419a",
   "metadata": {},
   "outputs": [
    {
     "name": "stdout",
     "output_type": "stream",
     "text": [
      "Accuracy: 94.33 %\n",
      "Standard Deviation: 2.65 %\n"
     ]
    }
   ],
   "source": [
    "from sklearn.model_selection import cross_val_score\n",
    "accuracies = cross_val_score(estimator = classifier, X = X_train, y = y_train, cv = 10)\n",
    "print(\"Accuracy: {:.2f} %\".format(accuracies.mean()*100))\n",
    "print(\"Standard Deviation: {:.2f} %\".format(accuracies.std()*100))"
   ]
  },
  {
   "cell_type": "markdown",
   "id": "855aeb32",
   "metadata": {},
   "source": [
    "## Training Random Forest model on Training data"
   ]
  },
  {
   "cell_type": "code",
   "execution_count": 219,
   "id": "a8f51c6b",
   "metadata": {},
   "outputs": [
    {
     "data": {
      "text/plain": [
       "RandomForestClassifier(criterion='entropy', n_estimators=10, random_state=0)"
      ]
     },
     "execution_count": 219,
     "metadata": {},
     "output_type": "execute_result"
    }
   ],
   "source": [
    "from sklearn.ensemble import RandomForestClassifier\n",
    "classifier = RandomForestClassifier(n_estimators = 10, criterion = 'entropy', random_state = 0)\n",
    "classifier.fit(X_train, y_train)"
   ]
  },
  {
   "cell_type": "markdown",
   "id": "72d49e3c",
   "metadata": {},
   "source": [
    "## Test set result prediction"
   ]
  },
  {
   "cell_type": "code",
   "execution_count": 220,
   "id": "94dfe209",
   "metadata": {},
   "outputs": [],
   "source": [
    "y_pred = classifier.predict(X_test)"
   ]
  },
  {
   "cell_type": "markdown",
   "id": "df12d520",
   "metadata": {},
   "source": [
    "## Confusion matrix and accuracy score"
   ]
  },
  {
   "cell_type": "code",
   "execution_count": 221,
   "id": "e37a1148",
   "metadata": {},
   "outputs": [
    {
     "name": "stdout",
     "output_type": "stream",
     "text": [
      "[[83  4]\n",
      " [ 3 47]]\n"
     ]
    }
   ],
   "source": [
    "from sklearn.metrics import confusion_matrix, accuracy_score\n",
    "cm = confusion_matrix(y_test, y_pred)\n",
    "print(cm)\n",
    "random_forest_accuracy = accuracy_score(y_test, y_pred)\n",
    "dictIncrement1D(accuracy_dict,'random_forest_accuracy ', random_forest_accuracy)"
   ]
  },
  {
   "cell_type": "markdown",
   "id": "b1158615",
   "metadata": {},
   "source": [
    "## Accuracy with K-fold cross Validation"
   ]
  },
  {
   "cell_type": "code",
   "execution_count": 222,
   "id": "179c1af1",
   "metadata": {},
   "outputs": [
    {
     "name": "stdout",
     "output_type": "stream",
     "text": [
      "Accuracy: 96.33 %\n",
      "Standard Deviation: 2.01 %\n"
     ]
    }
   ],
   "source": [
    "from sklearn.model_selection import cross_val_score\n",
    "accuracies = cross_val_score(estimator = classifier, X = X_train, y = y_train, cv = 10)\n",
    "print(\"Accuracy: {:.2f} %\".format(accuracies.mean()*100))\n",
    "print(\"Standard Deviation: {:.2f} %\".format(accuracies.std()*100))"
   ]
  },
  {
   "cell_type": "markdown",
   "id": "02f195e7",
   "metadata": {},
   "source": [
    "## To check best model from accuracy"
   ]
  },
  {
   "cell_type": "code",
   "execution_count": 223,
   "id": "bf715084",
   "metadata": {},
   "outputs": [
    {
     "data": {
      "text/plain": [
       "{'logistic_regression_accuracy ': 0.9562043795620438,\n",
       " 'knn_accuracy': 0.9708029197080292,\n",
       " 'svm_accuracy ': 0.9562043795620438,\n",
       " 'kernal_svm_accuracy ': 0.9635036496350365,\n",
       " 'naive_bayes_accuracy ': 0.948905109489051,\n",
       " 'decision_tree_accuracy ': 0.9562043795620438,\n",
       " 'random_forest_accuracy ': 0.948905109489051}"
      ]
     },
     "execution_count": 223,
     "metadata": {},
     "output_type": "execute_result"
    }
   ],
   "source": [
    "accuracy_dict"
   ]
  },
  {
   "cell_type": "code",
   "execution_count": 224,
   "id": "62072018",
   "metadata": {},
   "outputs": [
    {
     "data": {
      "text/plain": [
       "knn_accuracy                     0.970803\n",
       "kernal_svm_accuracy              0.963504\n",
       "decision_tree_accuracy           0.956204\n",
       "svm_accuracy                     0.956204\n",
       "logistic_regression_accuracy     0.956204\n",
       "random_forest_accuracy           0.948905\n",
       "naive_bayes_accuracy             0.948905\n",
       "dtype: float64"
      ]
     },
     "execution_count": 224,
     "metadata": {},
     "output_type": "execute_result"
    }
   ],
   "source": [
    "accuracy_series = pd.Series(accuracy_dict)\n",
    "accuracy_series.sort_values(ascending = False)"
   ]
  },
  {
   "cell_type": "markdown",
   "id": "9eb8024e",
   "metadata": {},
   "source": [
    "## From the above accuracies KNN Classification model is the best model for prediction."
   ]
  },
  {
   "cell_type": "code",
   "execution_count": null,
   "id": "805e375b",
   "metadata": {},
   "outputs": [],
   "source": []
  }
 ],
 "metadata": {
  "kernelspec": {
   "display_name": "Python 3 (ipykernel)",
   "language": "python",
   "name": "python3"
  },
  "language_info": {
   "codemirror_mode": {
    "name": "ipython",
    "version": 3
   },
   "file_extension": ".py",
   "mimetype": "text/x-python",
   "name": "python",
   "nbconvert_exporter": "python",
   "pygments_lexer": "ipython3",
   "version": "3.7.9"
  }
 },
 "nbformat": 4,
 "nbformat_minor": 5
}
